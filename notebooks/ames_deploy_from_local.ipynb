{
 "cells": [
  {
   "cell_type": "markdown",
   "metadata": {},
   "source": [
    "# Ames Housing Prices - Step 5: Model Deployment (from Local Experiment)\n",
    "Now that we have trained and selected our optimal model, its time to deploy it.  This notebook demonstrates how to user our Experiment and Pipelines from the previous steps to easly deploy our model as a Cortex Action. "
   ]
  },
  {
   "cell_type": "code",
   "execution_count": 1,
   "metadata": {},
   "outputs": [
    {
     "name": "stdout",
     "output_type": "stream",
     "text": [
      "Cortex Python SDK v5.5a6\n"
     ]
    }
   ],
   "source": [
    "# Basic setup\n",
    "%run config.ipynb"
   ]
  },
  {
   "cell_type": "code",
   "execution_count": 2,
   "metadata": {},
   "outputs": [],
   "source": [
    "# Connect to Cortex 5 and create a Builder instance\n",
    "cortex = Cortex.client()\n",
    "cortex_local = Cortex.local()\n",
    "builder = cortex.builder()"
   ]
  },
  {
   "cell_type": "markdown",
   "metadata": {},
   "source": [
    "### Load the Experiment\n",
    "Let's load our experiment from the previous step and find the model we want to deploy."
   ]
  },
  {
   "cell_type": "code",
   "execution_count": 3,
   "metadata": {},
   "outputs": [
    {
     "data": {
      "text/html": [
       "\n",
       "                    <style>\n",
       "                        #table1 { \n",
       "                          border: solid thin; \n",
       "                          border-collapse: collapse; \n",
       "                        }\n",
       "                        #table1 caption { \n",
       "                          padding-bottom: 0.5em; \n",
       "                        }\n",
       "                        #table1 th, \n",
       "                        #table1 td { \n",
       "                          border: solid thin;\n",
       "                          padding: 0.5rem 2rem;\n",
       "                        }\n",
       "                        #table1 td {\n",
       "                          white-space: nowrap;\n",
       "                        }\n",
       "                        #table1 td { \n",
       "                          border-style: none solid; \n",
       "                          vertical-align: top; \n",
       "                        }\n",
       "                        #table1 th { \n",
       "                          padding: 0.2em; \n",
       "                          vertical-align: middle; \n",
       "                          text-align: center; \n",
       "                        }\n",
       "                        #table1 tbody td:first-child::after { \n",
       "                          content: leader(\". \"); '\n",
       "                        }\n",
       "                    </style>\n",
       "                    <table id=\"table1\">\n",
       "                        <caption><b>Experiment:</b> kaggle/ames-housing-regression</caption>\n",
       "                        <thead>\n",
       "                        <tr>\n",
       "                            <th rowspan=\"2\">ID</th>\n",
       "                            <th rowspan=\"2\">Date</th>\n",
       "                            <th rowspan=\"2\">Took</th>\n",
       "                            <th colspan=\"2\" scope=\"colgroup\">Params</th>\n",
       "                            <th colspan=\"2\" scope=\"colgroup\">Metrics</th>\n",
       "                        </tr>\n",
       "                        <tr>\n",
       "                            \n",
       "                            <th>alphas</th>\n",
       "                            \n",
       "                            <th>model_type</th>\n",
       "                            \n",
       "                            \n",
       "                            <th>r2</th>\n",
       "                            \n",
       "                            <th>rmse</th>\n",
       "                            \n",
       "                        </tr>\n",
       "                        </thead>\n",
       "                        <tbody>\n",
       "                            \n",
       "                            <tr>\n",
       "                            <td>zc0paon</td>\n",
       "                            <td>Fri, 16 Nov 2018 14:10:05 GMT</td>\n",
       "                            <td>2.46 s</td>\n",
       "                            \n",
       "                            <td>[1, 0.1, 0.001, 0.0005]</td>\n",
       "                            \n",
       "                            <td>Lasso</td>\n",
       "                            \n",
       "                            \n",
       "                            <td>0.920696</td>\n",
       "                            \n",
       "                            <td>0.108386</td>\n",
       "                            \n",
       "                            </tr>\n",
       "                            \n",
       "                        </tbody>\n",
       "                    </table>"
      ],
      "text/plain": [
       "<cortex.experiment.LocalExperiment at 0x10f488048>"
      ]
     },
     "execution_count": 3,
     "metadata": {},
     "output_type": "execute_result"
    }
   ],
   "source": [
    "exp = cortex_local.experiment('kaggle/ames-housing-regression')\n",
    "exp"
   ]
  },
  {
   "cell_type": "markdown",
   "metadata": {},
   "source": [
    "---\n",
    "The model created in the last run looks to be the best, let's deploy it"
   ]
  },
  {
   "cell_type": "code",
   "execution_count": 4,
   "metadata": {},
   "outputs": [
    {
     "data": {
      "text/plain": [
       "LassoCV(alphas=[1, 0.1, 0.001, 0.0005], copy_X=True, cv='warn', eps=0.001,\n",
       "    fit_intercept=True, max_iter=1000, n_alphas=100, n_jobs=None,\n",
       "    normalize=False, positive=False, precompute='auto', random_state=None,\n",
       "    selection='cyclic', tol=0.0001, verbose=False)"
      ]
     },
     "execution_count": 4,
     "metadata": {},
     "output_type": "execute_result"
    }
   ],
   "source": [
    "run = exp.last_run()\n",
    "model = run.get_artifact('model')\n",
    "model"
   ]
  },
  {
   "cell_type": "markdown",
   "metadata": {},
   "source": [
    "### Model deployment - Step 1: Configure Data Pipeline for Inputs\n",
    "Our model was trained with data that has had cleaning and feature engineering steps applied to it.  Since we want our users to send us the actual raw data, we need to deploy our pipeline to transform the input data into the form we expect.  This requires applying some of the same steps from before, but also requires us to remember some of the data created during model training such as the median values of certain columns and the final list of _dummy_ categorical columns created during feature engineering.  Luckily, our pipelines have a memory in the form of _context_ that we can reference here to achieve this."
   ]
  },
  {
   "cell_type": "code",
   "execution_count": 5,
   "metadata": {},
   "outputs": [
    {
     "data": {
      "text/plain": [
       "<cortex.pipeline.Pipeline at 0x125201cc0>"
      ]
     },
     "execution_count": 5,
     "metadata": {},
     "output_type": "execute_result"
    }
   ],
   "source": [
    "train_ds = cortex_local.dataset('kaggle/ames-housing-train')\n",
    "\n",
    "# Model our feature pipeline after the 'clean' pipeline\n",
    "x_pipe = builder.pipeline('x_pipe')\n",
    "x_pipe.from_pipeline(train_ds.pipeline('clean'))"
   ]
  },
  {
   "cell_type": "code",
   "execution_count": 6,
   "metadata": {},
   "outputs": [],
   "source": [
    "# Same idea from our training prep, however we need to use the median values we computed before which we stored in our pipeline context\n",
    "def fill_median_cols_ctx(pipeline, df):\n",
    "    fill_median_cols = ['GarageArea','TotalBsmtSF', 'MasVnrArea', 'BsmtFinSF1', 'LotFrontage', 'BsmtUnfSF', 'GarageYrBlt']\n",
    "    [df[j].fillna(pipeline.get_context('{}_median'.format(j)), inplace=True) for j in fill_median_cols]\n",
    "                  \n",
    "# The dummy column conversion we did during training needs to be applied here.  Afterwards there will be missing columns because \n",
    "# our input instance will only contain at most one value per category.  We need to fill in the other expected columns.  We stored\n",
    "# the expected set of columns in our pipeline so we can easily do this now.\n",
    "def fix_columns(pipeline, df):\n",
    "    all_cols = pipeline.get_context('columns')\n",
    "    missing_cols = set(all_cols) - set(df.columns)\n",
    "    for c in missing_cols:\n",
    "        df[c] = 0\n",
    "    \n",
    "    # make sure we have all the columns we need\n",
    "    assert(set(all_cols) - set(df.columns) == set())\n",
    "    \n",
    "    return df[all_cols]"
   ]
  },
  {
   "cell_type": "code",
   "execution_count": 7,
   "metadata": {},
   "outputs": [
    {
     "data": {
      "text/plain": [
       "<cortex.pipeline.Pipeline at 0x125201cc0>"
      ]
     },
     "execution_count": 7,
     "metadata": {},
     "output_type": "execute_result"
    }
   ],
   "source": [
    "# The feature engineering pipeline contains the complete list of dummy columns in addition to some steps we need\n",
    "engineer_pipe = train_ds.pipeline('engineer')\n",
    "x_pipe.set_context('columns', engineer_pipe.get_context('columns'))\n",
    "\n",
    "# Reuse steps from our clean, features, and engineer pipelines\n",
    "fill_zero_cols = x_pipe.get_step('fill_zero_cols')\n",
    "fill_na_none = x_pipe.get_step('fill_na_none')\n",
    "get_dummies = engineer_pipe.get_step('get_dummies')\n",
    "\n",
    "# Build our final input pipeline\n",
    "x_pipe.reset()\n",
    "x_pipe.add_step(fill_zero_cols)\n",
    "x_pipe.add_step(fill_median_cols_ctx)\n",
    "x_pipe.add_step(fill_na_none)\n",
    "x_pipe.add_step(get_dummies)\n",
    "x_pipe.add_step(fix_columns)"
   ]
  },
  {
   "cell_type": "markdown",
   "metadata": {},
   "source": [
    "### Model deployment - Step 2: Configure Data Pipeline for Output\n",
    "If you remember, we scaled our target variable using the numpy _log1p_ function.  We need to inverse this using the _exp_ function so our predicted value is correct."
   ]
  },
  {
   "cell_type": "code",
   "execution_count": 8,
   "metadata": {},
   "outputs": [],
   "source": [
    "y_pipe = builder.pipeline('y_pipe')"
   ]
  },
  {
   "cell_type": "code",
   "execution_count": 9,
   "metadata": {},
   "outputs": [],
   "source": [
    "def rescale_target(pipeline, df):\n",
    "    df['SalePrice'] = np.exp(df['SalePrice'])"
   ]
  },
  {
   "cell_type": "code",
   "execution_count": 10,
   "metadata": {},
   "outputs": [
    {
     "data": {
      "text/plain": [
       "<cortex.pipeline.Pipeline at 0x10f44e400>"
      ]
     },
     "execution_count": 10,
     "metadata": {},
     "output_type": "execute_result"
    }
   ],
   "source": [
    "y_pipe.add_step(rescale_target)"
   ]
  },
  {
   "cell_type": "markdown",
   "metadata": {},
   "source": [
    "### Model deployment - Step 3: Build and Deploy Cortex Action\n",
    "Now that we have our input and output pipelines, we can use the Cortex Builder to package and deploy our model in one step."
   ]
  },
  {
   "cell_type": "code",
   "execution_count": 11,
   "metadata": {},
   "outputs": [
    {
     "name": "stdout",
     "output_type": "stream",
     "text": [
      "Building Cortex Action (function): kaggle/ames-housing-predict\n",
      "model version not found, pushing to remote storage: /cortex/models/kaggle/ames-housing-predict/957d05899253d666860a63b26ba2aaec.pk\n",
      "Building Docker image kaggle/ames-housing-predict...\n",
      "Step 1/11 : FROM continuumio/miniconda3:4.5.4\n",
      "Step 2/11 : WORKDIR /function\n",
      "Step 3/11 : RUN apt-get update && apt-get install -y linux-headers-amd64 build-essential\n",
      "Step 4/11 : RUN conda config --add channels conda-forge\n",
      "Step 5/11 : COPY conda_requirements.txt .\n",
      "Step 6/11 : RUN conda install --yes --file conda_requirements.txt\n",
      "Step 7/11 : RUN pip install \"dill==0.2.8.2\" \"fdk==0.0.31\" \"cortex-client==5.5a6\"\n",
      "Collecting dill==0.2.8.2\n",
      "Downloading https://files.pythonhosted.org/packages/6f/78/8b96476f4ae426db71c6e86a8e6a81407f015b34547e442291cd397b18f3/dill-0.2.8.2.tar.gz (150kB)\n",
      "Collecting fdk==0.0.31\n",
      "Downloading https://files.pythonhosted.org/packages/f0/21/b5d773f200caedf2d2a0fdd9b87a47477174b450b6658b5751796ddbadeb/fdk-0.0.31-py2.py3-none-any.whl\n",
      "Collecting cortex-client==5.5a6\n",
      "Downloading https://files.pythonhosted.org/packages/c3/b4/140b864fa92415d569c46d0c9d32f0a2fc9cedd1e8f68f99d122ca8b01e1/cortex-client-5.5a6.zip (101kB)\n",
      "Collecting pbr!=2.1.0,>=2.0.0 (from fdk==0.0.31)\n",
      "Downloading https://files.pythonhosted.org/packages/f3/04/fddc1c2dd75b256eda4d360024692231a2c19a0c61ad7f4a162407c1ab58/pbr-5.1.1-py2.py3-none-any.whl (106kB)\n",
      "Collecting uvloop (from fdk==0.0.31)\n",
      "Downloading https://files.pythonhosted.org/packages/53/71/154f98e003df68cbd95704c98cec1f2d09e271651f6232bafa1b2c2dc02f/uvloop-0.11.3-cp36-cp36m-manylinux1_x86_64.whl (3.8MB)\n",
      "Requirement already satisfied: requests==2.18.4 in /opt/conda/lib/python3.6/site-packages (from fdk==0.0.31) (2.18.4)\n",
      "Collecting ujson==1.35 (from fdk==0.0.31)\n",
      "Downloading https://files.pythonhosted.org/packages/16/c4/79f3409bc710559015464e5f49b9879430d8f87498ecdc335899732e5377/ujson-1.35.tar.gz (192kB)\n",
      "Collecting iso8601==0.1.12 (from fdk==0.0.31)\n",
      "Downloading https://files.pythonhosted.org/packages/ef/57/7162609dab394d38bbc7077b7ba0a6f10fb09d8b7701ea56fa1edc0c4345/iso8601-0.1.12-py2.py3-none-any.whl\n",
      "Collecting requests-toolbelt==0.8.0 (from cortex-client==5.5a6)\n",
      "Downloading https://files.pythonhosted.org/packages/97/8a/d710f792d6f6ecc089c5e55b66e66c3f2f35516a1ede5a8f54c13350ffb0/requests_toolbelt-0.8.0-py2.py3-none-any.whl (54kB)\n",
      "Collecting Flask==1.0.2 (from cortex-client==5.5a6)\n",
      "Downloading https://files.pythonhosted.org/packages/7f/e7/08578774ed4536d3242b14dacb4696386634607af824ea997202cd0edb4b/Flask-1.0.2-py2.py3-none-any.whl (91kB)\n",
      "Collecting diskcache<3.1,>=3.0.5 (from cortex-client==5.5a6)\n",
      "Downloading https://files.pythonhosted.org/packages/24/cd/82de3b0e3c01f5de22dc6d95e0c3bd35a32ca07967092e03c995636443a1/diskcache-3.0.6-py2.py3-none-any.whl\n",
      "Collecting ipython<7,>=6.4.0 (from cortex-client==5.5a6)\n",
      "Downloading https://files.pythonhosted.org/packages/f7/62/2fef7db3a7b75e8099c3d9db2630ae5ba0b9eefefd91f7497862393d90e8/ipython-6.5.0-py3-none-any.whl (748kB)\n",
      "Collecting pyjwt<2,>=1.6.1 (from cortex-client==5.5a6)\n",
      "Downloading https://files.pythonhosted.org/packages/93/d1/3378cc8184a6524dc92993090ee8b4c03847c567e298305d6cf86987e005/PyJWT-1.6.4-py2.py3-none-any.whl\n",
      "Collecting discovery-transitioning-utils==1.3.50 (from cortex-client==5.5a6)\n",
      "Downloading https://files.pythonhosted.org/packages/fb/a2/32bf25f3c84b4b34b29fe4f03d813bb4ef90a3eda99817ecc5bce4b55f04/discovery_transitioning_utils-1.3.50-py36-none-any.whl (40kB)\n",
      "Collecting seaborn<0.10,>=0.9.0 (from cortex-client==5.5a6)\n",
      "Downloading https://files.pythonhosted.org/packages/a8/76/220ba4420459d9c4c9c9587c6ce607bf56c25b3d3d2de62056efe482dadc/seaborn-0.9.0-py3-none-any.whl (208kB)\n",
      "Collecting matplotlib<3,>=2.2.2 (from cortex-client==5.5a6)\n",
      "Downloading https://files.pythonhosted.org/packages/9e/59/f235ab21bbe7b7c6570c4abf17ffb893071f4fa3b9cf557b09b60359ad9a/matplotlib-2.2.3-cp36-cp36m-manylinux1_x86_64.whl (12.6MB)\n",
      "Collecting more_itertools<5,>=4.3.0 (from cortex-client==5.5a6)\n",
      "Downloading https://files.pythonhosted.org/packages/79/b1/eace304ef66bd7d3d8b2f78cc374b73ca03bc53664d78151e9df3b3996cc/more_itertools-4.3.0-py3-none-any.whl (48kB)\n",
      "Collecting pyyaml<4,>=3.13 (from cortex-client==5.5a6)\n",
      "Downloading https://files.pythonhosted.org/packages/9e/a3/1d13970c3f36777c583f136c136f804d70f500168edc1edea6daa7200769/PyYAML-3.13.tar.gz (270kB)\n",
      "Collecting cuid<1,>=0.3 (from cortex-client==5.5a6)\n",
      "Downloading https://files.pythonhosted.org/packages/f6/0b/d306167bc2c6ecb9a0ff1552610d4e844045ec7bfd67f79e8041100f9d62/cuid-0.3.tar.gz\n",
      "Collecting maya==0.5.0 (from cortex-client==5.5a6)\n",
      "Downloading https://files.pythonhosted.org/packages/fe/bc/2396f49b3515bf145241190a5d5768463958e80c37b2a869977f910d176b/maya-0.5.0-py2.py3-none-any.whl\n",
      "Collecting docker==3.5.0 (from cortex-client==5.5a6)\n",
      "Downloading https://files.pythonhosted.org/packages/06/0b/ce97eb31058eddaef316973b8299b737ebab0bcb5798fd5a3225d53b4455/docker-3.5.0-py2.py3-none-any.whl (125kB)\n",
      "Collecting deprecation==2.0.6 (from cortex-client==5.5a6)\n",
      "Downloading https://files.pythonhosted.org/packages/32/e9/01ffbaf3540ad54476cd7066439d629f1dd73b851cc5c0993ce2c12e1cdd/deprecation-2.0.6-py2.py3-none-any.whl\n",
      "Collecting dataclasses>=0.6 (from cortex-client==5.5a6)\n",
      "Downloading https://files.pythonhosted.org/packages/26/2f/1095cdc2868052dd1e64520f7c0d5c8c550ad297e944e641dbf1ffbb9a5d/dataclasses-0.6-py3-none-any.whl\n",
      "Requirement already satisfied: chardet<3.1.0,>=3.0.2 in /opt/conda/lib/python3.6/site-packages (from requests==2.18.4->fdk==0.0.31) (3.0.4)\n",
      "Requirement already satisfied: idna<2.7,>=2.5 in /opt/conda/lib/python3.6/site-packages (from requests==2.18.4->fdk==0.0.31) (2.6)\n",
      "Requirement already satisfied: urllib3<1.23,>=1.21.1 in /opt/conda/lib/python3.6/site-packages (from requests==2.18.4->fdk==0.0.31) (1.22)\n",
      "Requirement already satisfied: certifi>=2017.4.17 in /opt/conda/lib/python3.6/site-packages (from requests==2.18.4->fdk==0.0.31) (2018.8.24)\n",
      "Collecting Werkzeug>=0.14 (from Flask==1.0.2->cortex-client==5.5a6)\n",
      "Downloading https://files.pythonhosted.org/packages/20/c4/12e3e56473e52375aa29c4764e70d1b8f3efa6682bef8d0aae04fe335243/Werkzeug-0.14.1-py2.py3-none-any.whl (322kB)\n",
      "Collecting click>=5.1 (from Flask==1.0.2->cortex-client==5.5a6)\n",
      "Downloading https://files.pythonhosted.org/packages/fa/37/45185cb5abbc30d7257104c434fe0b07e5a195a6847506c074527aa599ec/Click-7.0-py2.py3-none-any.whl (81kB)\n",
      "Collecting Jinja2>=2.10 (from Flask==1.0.2->cortex-client==5.5a6)\n",
      "Downloading https://files.pythonhosted.org/packages/7f/ff/ae64bacdfc95f27a016a7bed8e8686763ba4d277a78ca76f32659220a731/Jinja2-2.10-py2.py3-none-any.whl (126kB)\n",
      "Collecting itsdangerous>=0.24 (from Flask==1.0.2->cortex-client==5.5a6)\n",
      "Downloading https://files.pythonhosted.org/packages/76/ae/44b03b253d6fade317f32c24d100b3b35c2239807046a4c953c7b89fa49e/itsdangerous-1.1.0-py2.py3-none-any.whl\n",
      "Collecting jedi>=0.10 (from ipython<7,>=6.4.0->cortex-client==5.5a6)\n",
      "Downloading https://files.pythonhosted.org/packages/7a/1a/9bd24a185873b998611c2d8d4fb15cd5e8a879ead36355df7ee53e9111bf/jedi-0.13.1-py2.py3-none-any.whl (177kB)\n",
      "Requirement already satisfied: setuptools>=18.5 in /opt/conda/lib/python3.6/site-packages (from ipython<7,>=6.4.0->cortex-client==5.5a6) (39.2.0)\n",
      "Collecting pygments (from ipython<7,>=6.4.0->cortex-client==5.5a6)\n",
      "Downloading https://files.pythonhosted.org/packages/02/ee/b6e02dc6529e82b75bb06823ff7d005b141037cb1416b10c6f00fc419dca/Pygments-2.2.0-py2.py3-none-any.whl (841kB)\n",
      "Collecting prompt-toolkit<2.0.0,>=1.0.15 (from ipython<7,>=6.4.0->cortex-client==5.5a6)\n",
      "Downloading https://files.pythonhosted.org/packages/04/d1/c6616dd03701e7e2073f06d5c3b41b012256e42b72561f16a7bd86dd7b43/prompt_toolkit-1.0.15-py3-none-any.whl (247kB)\n",
      "Collecting pickleshare (from ipython<7,>=6.4.0->cortex-client==5.5a6)\n",
      "Downloading https://files.pythonhosted.org/packages/9a/41/220f49aaea88bc6fa6cba8d05ecf24676326156c23b991e80b3f2fc24c77/pickleshare-0.7.5-py2.py3-none-any.whl\n",
      "Collecting simplegeneric>0.8 (from ipython<7,>=6.4.0->cortex-client==5.5a6)\n",
      "Downloading https://files.pythonhosted.org/packages/3d/57/4d9c9e3ae9a255cd4e1106bb57e24056d3d0709fc01b2e3e345898e49d5b/simplegeneric-0.8.1.zip\n",
      "Collecting pexpect; sys_platform != \"win32\" (from ipython<7,>=6.4.0->cortex-client==5.5a6)\n",
      "Downloading https://files.pythonhosted.org/packages/89/e6/b5a1de8b0cc4e07ca1b305a4fcc3f9806025c1b651ea302646341222f88b/pexpect-4.6.0-py2.py3-none-any.whl (57kB)\n",
      "Collecting traitlets>=4.2 (from ipython<7,>=6.4.0->cortex-client==5.5a6)\n",
      "Downloading https://files.pythonhosted.org/packages/93/d6/abcb22de61d78e2fc3959c964628a5771e47e7cc60d53e9342e21ed6cc9a/traitlets-4.3.2-py2.py3-none-any.whl (74kB)\n",
      "Collecting backcall (from ipython<7,>=6.4.0->cortex-client==5.5a6)\n",
      "Downloading https://files.pythonhosted.org/packages/84/71/c8ca4f5bb1e08401b916c68003acf0a0655df935d74d93bf3f3364b310e0/backcall-0.1.0.tar.gz\n",
      "Collecting decorator (from ipython<7,>=6.4.0->cortex-client==5.5a6)\n",
      "Downloading https://files.pythonhosted.org/packages/bc/bb/a24838832ba35baf52f32ab1a49b906b5f82fb7c76b2f6a7e35e140bac30/decorator-4.3.0-py2.py3-none-any.whl\n",
      "Collecting xlrd (from discovery-transitioning-utils==1.3.50->cortex-client==5.5a6)\n",
      "Downloading https://files.pythonhosted.org/packages/07/e6/e95c4eec6221bfd8528bcc4ea252a850bffcc4be88ebc367e23a1a84b0bb/xlrd-1.1.0-py2.py3-none-any.whl (108kB)\n",
      "Collecting xlsxwriter (from discovery-transitioning-utils==1.3.50->cortex-client==5.5a6)\n",
      "Downloading https://files.pythonhosted.org/packages/3d/1b/4caecd4efde1d41ba3bef1a81027032a7a6dff7d5112e1731f232c0addb9/XlsxWriter-1.1.2-py2.py3-none-any.whl (142kB)\n",
      "Requirement already satisfied: numpy in /opt/conda/lib/python3.6/site-packages (from discovery-transitioning-utils==1.3.50->cortex-client==5.5a6) (1.15.1)\n",
      "Collecting pandas (from discovery-transitioning-utils==1.3.50->cortex-client==5.5a6)\n",
      "Downloading https://files.pythonhosted.org/packages/e1/d8/feeb346d41f181e83fba45224ab14a8d8af019b48af742e047f3845d8cff/pandas-0.23.4-cp36-cp36m-manylinux1_x86_64.whl (8.9MB)\n",
      "Requirement already satisfied: scipy>=0.14.0 in /opt/conda/lib/python3.6/site-packages (from seaborn<0.10,>=0.9.0->cortex-client==5.5a6) (1.1.0)\n",
      "Collecting kiwisolver>=1.0.1 (from matplotlib<3,>=2.2.2->cortex-client==5.5a6)\n",
      "Downloading https://files.pythonhosted.org/packages/69/a7/88719d132b18300b4369fbffa741841cfd36d1e637e1990f27929945b538/kiwisolver-1.0.1-cp36-cp36m-manylinux1_x86_64.whl (949kB)\n",
      "Collecting pytz (from matplotlib<3,>=2.2.2->cortex-client==5.5a6)\n",
      "Downloading https://files.pythonhosted.org/packages/f8/0e/2365ddc010afb3d79147f1dd544e5ee24bf4ece58ab99b16fbb465ce6dc0/pytz-2018.7-py2.py3-none-any.whl (506kB)\n",
      "Requirement already satisfied: six>=1.10 in /opt/conda/lib/python3.6/site-packages (from matplotlib<3,>=2.2.2->cortex-client==5.5a6) (1.11.0)\n",
      "Collecting cycler>=0.10 (from matplotlib<3,>=2.2.2->cortex-client==5.5a6)\n",
      "Downloading https://files.pythonhosted.org/packages/f7/d2/e07d3ebb2bd7af696440ce7e754c59dd546ffe1bbe732c8ab68b9c834e61/cycler-0.10.0-py2.py3-none-any.whl\n",
      "Collecting pyparsing!=2.0.4,!=2.1.2,!=2.1.6,>=2.0.1 (from matplotlib<3,>=2.2.2->cortex-client==5.5a6)\n",
      "Downloading https://files.pythonhosted.org/packages/71/e8/6777f6624681c8b9701a8a0a5654f3eb56919a01a78e12bf3c73f5a3c714/pyparsing-2.3.0-py2.py3-none-any.whl (59kB)\n",
      "Collecting python-dateutil>=2.1 (from matplotlib<3,>=2.2.2->cortex-client==5.5a6)\n",
      "Downloading https://files.pythonhosted.org/packages/74/68/d87d9b36af36f44254a8d512cbfc48369103a3b9e474be9bdfe536abfc45/python_dateutil-2.7.5-py2.py3-none-any.whl (225kB)\n",
      "Collecting tzlocal (from maya==0.5.0->cortex-client==5.5a6)\n",
      "Downloading https://files.pythonhosted.org/packages/cb/89/e3687d3ed99bc882793f82634e9824e62499fdfdc4b1ae39e211c5b05017/tzlocal-1.5.1.tar.gz\n",
      "Collecting humanize (from maya==0.5.0->cortex-client==5.5a6)\n",
      "Downloading https://files.pythonhosted.org/packages/8c/e0/e512e4ac6d091fc990bbe13f9e0378f34cf6eecd1c6c268c9e598dcf5bb9/humanize-0.5.1.tar.gz\n",
      "Collecting dateparser>=0.7.0 (from maya==0.5.0->cortex-client==5.5a6)\n",
      "Downloading https://files.pythonhosted.org/packages/ac/9e/1aa87c0c59f9731820bfd20a8b148d97b315530c2c92d1fb300328c8c42f/dateparser-0.7.0-py2.py3-none-any.whl (357kB)\n",
      "Collecting pendulum<=1.5.1,>=1.0 (from maya==0.5.0->cortex-client==5.5a6)\n",
      "Downloading https://files.pythonhosted.org/packages/a6/1b/95589c9e276fa7e624d3e07020ffee8b200d6d263fd141eb1f2ad0767aa7/pendulum-1.5.1-cp36-cp36m-manylinux1_x86_64.whl (124kB)\n",
      "Collecting snaptime (from maya==0.5.0->cortex-client==5.5a6)\n",
      "Downloading https://files.pythonhosted.org/packages/f3/f4/cb818c9bfdac4605f13296f7fcfe068aee7d1c3aa89f8cc22a064c1fab20/snaptime-0.2.4.tar.gz\n",
      "Collecting docker-pycreds>=0.3.0 (from docker==3.5.0->cortex-client==5.5a6)\n",
      "Downloading https://files.pythonhosted.org/packages/ea/bf/7e70aeebc40407fbdb96fa9f79fc8e4722ea889a99378303e3bcc73f4ab5/docker_pycreds-0.3.0-py2.py3-none-any.whl\n",
      "Collecting websocket-client>=0.32.0 (from docker==3.5.0->cortex-client==5.5a6)\n",
      "Downloading https://files.pythonhosted.org/packages/26/2d/f749a5c82f6192d77ed061a38e02001afcba55fe8477336d26a950ab17ce/websocket_client-0.54.0-py2.py3-none-any.whl (200kB)\n",
      "Collecting packaging (from deprecation==2.0.6->cortex-client==5.5a6)\n",
      "Downloading https://files.pythonhosted.org/packages/89/d1/92e6df2e503a69df9faab187c684585f0136662c12bb1f36901d426f3fab/packaging-18.0-py2.py3-none-any.whl\n",
      "Collecting MarkupSafe>=0.23 (from Jinja2>=2.10->Flask==1.0.2->cortex-client==5.5a6)\n",
      "Downloading https://files.pythonhosted.org/packages/08/04/f2191b50fb7f0712f03f064b71d8b4605190f2178ba02e975a87f7b89a0d/MarkupSafe-1.1.0-cp36-cp36m-manylinux1_x86_64.whl\n",
      "Collecting parso>=0.3.0 (from jedi>=0.10->ipython<7,>=6.4.0->cortex-client==5.5a6)\n",
      "Downloading https://files.pythonhosted.org/packages/09/51/9c48a46334be50c13d25a3afe55fa05c445699304c5ad32619de953a2305/parso-0.3.1-py2.py3-none-any.whl (88kB)\n",
      "Collecting wcwidth (from prompt-toolkit<2.0.0,>=1.0.15->ipython<7,>=6.4.0->cortex-client==5.5a6)\n",
      "Downloading https://files.pythonhosted.org/packages/7e/9f/526a6947247599b084ee5232e4f9190a38f398d7300d866af3ab571a5bfe/wcwidth-0.1.7-py2.py3-none-any.whl\n",
      "Collecting ptyprocess>=0.5 (from pexpect; sys_platform != \"win32\"->ipython<7,>=6.4.0->cortex-client==5.5a6)\n",
      "Downloading https://files.pythonhosted.org/packages/d1/29/605c2cc68a9992d18dada28206eeada56ea4bd07a239669da41674648b6f/ptyprocess-0.6.0-py2.py3-none-any.whl\n",
      "Collecting ipython-genutils (from traitlets>=4.2->ipython<7,>=6.4.0->cortex-client==5.5a6)\n",
      "Downloading https://files.pythonhosted.org/packages/fa/bc/9bd3b5c2b4774d5f33b2d544f1460be9df7df2fe42f352135381c347c69a/ipython_genutils-0.2.0-py2.py3-none-any.whl\n",
      "Collecting regex (from dateparser>=0.7.0->maya==0.5.0->cortex-client==5.5a6)\n",
      "Downloading https://files.pythonhosted.org/packages/a7/5f/9147243aa851f77b5321d19251b58efe3170a52c4ed81fadf46bc1cd9f49/regex-2018.11.07.tar.gz (646kB)\n",
      "Collecting pytzdata>=2018.3.0.0 (from pendulum<=1.5.1,>=1.0->maya==0.5.0->cortex-client==5.5a6)\n",
      "Downloading https://files.pythonhosted.org/packages/46/8b/d7fe0c5b24870438d5ed59ceab72d537c5374d7db3cc57107e4a922b3a23/pytzdata-2018.7-py2.py3-none-any.whl (971kB)\n",
      "Building wheels for collected packages: dill, cortex-client, ujson, pyyaml, cuid, simplegeneric, backcall, tzlocal, humanize, snaptime, regex\n",
      "Running setup.py bdist_wheel for dill: started\n",
      "Running setup.py bdist_wheel for dill: finished with status 'done'\n",
      "Stored in directory: /root/.cache/pip/wheels/e2/5d/17/f87cb7751896ac629b435a8696f83ee75b11029f5d6f6bda72\n",
      "Running setup.py bdist_wheel for cortex-client: started\n",
      "Running setup.py bdist_wheel for cortex-client: finished with status 'done'\n",
      "Stored in directory: /root/.cache/pip/wheels/12/01/bf/f8e8e41e7d5aa3bd48a614d4ac84ea88ca9d69f72301327821\n",
      "Running setup.py bdist_wheel for ujson: started\n",
      "Running setup.py bdist_wheel for ujson: finished with status 'done'\n",
      "Stored in directory: /root/.cache/pip/wheels/28/77/e4/0311145b9c2e2f01470e744855131f9e34d6919687550f87d1\n",
      "Running setup.py bdist_wheel for pyyaml: started\n",
      "Running setup.py bdist_wheel for pyyaml: finished with status 'done'\n",
      "Stored in directory: /root/.cache/pip/wheels/ad/da/0c/74eb680767247273e2cf2723482cb9c924fe70af57c334513f\n",
      "Running setup.py bdist_wheel for cuid: started\n",
      "Running setup.py bdist_wheel for cuid: finished with status 'done'\n",
      "Stored in directory: /root/.cache/pip/wheels/9f/ac/8f/7e19a7949ad05a7efd2987ad2e1b910b6964d265b07adc029f\n",
      "Running setup.py bdist_wheel for simplegeneric: started\n",
      "Running setup.py bdist_wheel for simplegeneric: finished with status 'done'\n",
      "Stored in directory: /root/.cache/pip/wheels/a9/28/53/f24776b4c5bcbe91aaf1f1e247bd6fadd17191aa12fac63902\n",
      "Running setup.py bdist_wheel for backcall: started\n",
      "Running setup.py bdist_wheel for backcall: finished with status 'done'\n",
      "Stored in directory: /root/.cache/pip/wheels/98/b0/dd/29e28ff615af3dda4c67cab719dd51357597eabff926976b45\n",
      "Running setup.py bdist_wheel for tzlocal: started\n",
      "Running setup.py bdist_wheel for tzlocal: finished with status 'done'\n",
      "Stored in directory: /root/.cache/pip/wheels/15/ae/df/a67bf1ed84e9bf230187d36d8dcfd30072bea0236cb059ed91\n",
      "Running setup.py bdist_wheel for humanize: started\n",
      "Running setup.py bdist_wheel for humanize: finished with status 'done'\n",
      "Stored in directory: /root/.cache/pip/wheels/69/86/6c/f8b8593bc273ec4b0c653d3827f7482bb2001a2781a73b7f44\n",
      "Running setup.py bdist_wheel for snaptime: started\n",
      "Running setup.py bdist_wheel for snaptime: finished with status 'done'\n",
      "Stored in directory: /root/.cache/pip/wheels/59/e3/55/b528efc85cc6a85b6ac7b7d7af10e82b09d1299c49aeddeaf3\n",
      "Running setup.py bdist_wheel for regex: started\n",
      "Running setup.py bdist_wheel for regex: finished with status 'done'\n",
      "Stored in directory: /root/.cache/pip/wheels/a2/03/2b/bdd66c376010fb1c405145e16bed909618dd544282951a18c7\n",
      "Successfully built dill cortex-client ujson pyyaml cuid simplegeneric backcall tzlocal humanize snaptime regex\n",
      "\u001b[91mfdk 0.0.31 has requirement dill==0.2.7.1, but you'll have dill 0.2.8.2 which is incompatible.\n",
      "\u001b[0m\n",
      "Installing collected packages: dill, pbr, uvloop, ujson, iso8601, fdk, requests-toolbelt, Werkzeug, click, MarkupSafe, Jinja2, itsdangerous, Flask, diskcache, parso, jedi, pygments, wcwidth, prompt-toolkit, pickleshare, simplegeneric, ptyprocess, pexpect, decorator, ipython-genutils, traitlets, backcall, ipython, pyjwt, kiwisolver, pytz, cycler, pyparsing, python-dateutil, matplotlib, pandas, seaborn, xlrd, pyyaml, xlsxwriter, discovery-transitioning-utils, more-itertools, cuid, tzlocal, humanize, regex, dateparser, pytzdata, pendulum, snaptime, maya, docker-pycreds, websocket-client, docker, packaging, deprecation, dataclasses, cortex-client\n",
      "Successfully installed Flask-1.0.2 Jinja2-2.10 MarkupSafe-1.1.0 Werkzeug-0.14.1 backcall-0.1.0 click-7.0 cortex-client-5.5a6 cuid-0.3 cycler-0.10.0 dataclasses-0.6 dateparser-0.7.0 decorator-4.3.0 deprecation-2.0.6 dill-0.2.8.2 discovery-transitioning-utils-1.3.50 diskcache-3.0.6 docker-3.5.0 docker-pycreds-0.3.0 fdk-0.0.31 humanize-0.5.1 ipython-6.5.0 ipython-genutils-0.2.0 iso8601-0.1.12 itsdangerous-1.1.0 jedi-0.13.1 kiwisolver-1.0.1 matplotlib-2.2.3 maya-0.5.0 more-itertools-4.3.0 packaging-18.0 pandas-0.23.4 parso-0.3.1 pbr-5.1.1 pendulum-1.5.1 pexpect-4.6.0 pickleshare-0.7.5 prompt-toolkit-1.0.15 ptyprocess-0.6.0 pygments-2.2.0 pyjwt-1.6.4 pyparsing-2.3.0 python-dateutil-2.7.5 pytz-2018.7 pytzdata-2018.7 pyyaml-3.13 regex-2018.11.7 requests-toolbelt-0.8.0 seaborn-0.9.0 simplegeneric-0.8.1 snaptime-0.2.4 traitlets-4.3.2 tzlocal-1.5.1 ujson-1.35 uvloop-0.11.3 wcwidth-0.1.7 websocket-client-0.54.0 xlrd-1.1.0 xlsxwriter-1.1.2\n",
      "\u001b[91mYou are using pip version 10.0.1, however version 18.1 is available.\n",
      "You should consider upgrading via the 'pip install --upgrade pip' command.\n",
      "\u001b[0m\n",
      "Removing intermediate container 36baef1c78ef\n",
      "Step 8/11 : COPY requirements.txt .\n",
      "Step 9/11 : RUN pip install -r requirements.txt\n",
      "Requirement already satisfied: numpy in /opt/conda/lib/python3.6/site-packages (from -r requirements.txt (line 2)) (1.15.1)\n",
      "Requirement already satisfied: scipy in /opt/conda/lib/python3.6/site-packages (from -r requirements.txt (line 3)) (1.1.0)\n",
      "Requirement already satisfied: scikit-learn in /opt/conda/lib/python3.6/site-packages (from -r requirements.txt (line 4)) (0.19.2)\n",
      "\u001b[91mfdk 0.0.31 has requirement dill==0.2.7.1, but you'll have dill 0.2.8.2 which is incompatible.\n",
      "\u001b[0m\n",
      "\u001b[91mYou are using pip version 10.0.1, however version 18.1 is available.\n",
      "You should consider upgrading via the 'pip install --upgrade pip' command.\n",
      "\u001b[0m\n",
      "Removing intermediate container 45043f5b3445\n",
      "Step 10/11 : COPY action.py .\n",
      "Step 11/11 : ENTRYPOINT [\"python\", \"action.py\"]\n",
      "Removing intermediate container 7b2759c151ce\n",
      "Successfully built e1dc9fb0e0ce\n",
      "Successfully tagged kaggle/ames-housing-predict:latest\n",
      "Image kaggle/ames-housing-predict built in 69.437896 seconds\n",
      "Image kaggle/ames-housing-predict tagged as private-registry.cortex-dev.insights.ai/msanchez_2/kaggle_ames-housing-predict:6h2bamx\n",
      "Pushing image to remote repository...\n",
      "6h2bamx: digest: sha256:a5fd39644f96a2c198b3ca45fec8038587211a43cfb7d47fd55d8b45f9e912ca size: 3247\n",
      "Image private-registry.cortex-dev.insights.ai/msanchez_2/kaggle_ames-housing-predict:6h2bamx pushed in 2352.180545 seconds\n",
      "Cleaning up...\n"
     ]
    },
    {
     "data": {
      "text/html": [
       "\n",
       "        <table>\n",
       "            <thead>\n",
       "                <tr>\n",
       "                    <th>Name</th>\n",
       "                    <th>Version</th>\n",
       "                    <th>Type</th>\n",
       "                    <th>Kind</th>\n",
       "                    <th>Image</th>\n",
       "                    <th>Deployment Status</th>\n",
       "                </tr>\n",
       "            </thead>\n",
       "            <tbody>\n",
       "                <td>kaggle/ames-housing-predict</td>\n",
       "                <td>2</td>\n",
       "                <td>function</td>\n",
       "                <td>python:3</td>\n",
       "                <td>private-registry.cortex-dev.insights.ai/msanchez_2/kaggle_ames-housing-predict:6h2bamx</td>\n",
       "                <td>COMPLETED</td>\n",
       "            </tbody>\n",
       "        </table>\n",
       "        "
      ],
      "text/plain": [
       "<cortex.action.Action at 0x125225e10>"
      ]
     },
     "execution_count": 11,
     "metadata": {},
     "output_type": "execute_result"
    }
   ],
   "source": [
    "builder.action('kaggle/ames-housing-predict')\\\n",
    "       .from_model(model, x_pipeline=x_pipe, y_pipeline=y_pipe, target='SalePrice')\\\n",
    "       .build()"
   ]
  },
  {
   "cell_type": "code",
   "execution_count": 12,
   "metadata": {},
   "outputs": [
    {
     "data": {
      "text/html": [
       "\n",
       "        <table>\n",
       "            <thead>\n",
       "                <tr>\n",
       "                    <th>Name</th>\n",
       "                    <th>Version</th>\n",
       "                    <th>Type</th>\n",
       "                    <th>Kind</th>\n",
       "                    <th>Image</th>\n",
       "                    <th>Deployment Status</th>\n",
       "                </tr>\n",
       "            </thead>\n",
       "            <tbody>\n",
       "                <td>kaggle/ames-housing-predict</td>\n",
       "                <td>2</td>\n",
       "                <td>function</td>\n",
       "                <td>python:3</td>\n",
       "                <td>private-registry.cortex-dev.insights.ai/msanchez_2/kaggle_ames-housing-predict:6h2bamx</td>\n",
       "                <td>COMPLETED</td>\n",
       "            </tbody>\n",
       "        </table>\n",
       "        "
      ],
      "text/plain": [
       "<cortex.action.Action at 0x1252259e8>"
      ]
     },
     "execution_count": 12,
     "metadata": {},
     "output_type": "execute_result"
    }
   ],
   "source": [
    "action = cortex.action('kaggle/ames-housing-predict')\n",
    "action"
   ]
  },
  {
   "cell_type": "markdown",
   "metadata": {
    "slideshow": {
     "slide_type": "notes"
    }
   },
   "source": [
    "---\n",
    "Unit test for the Action.  Make sure our action is ready for use."
   ]
  },
  {
   "cell_type": "code",
   "execution_count": 13,
   "metadata": {},
   "outputs": [
    {
     "name": "stdout",
     "output_type": "stream",
     "text": [
      "{'columns': ['SalePrice'], 'values': [120665.4689426633]}\n",
      "\n",
      "CPU times: user 15.1 ms, sys: 4.21 ms, total: 19.3 ms\n",
      "Wall time: 24.7 s\n"
     ]
    }
   ],
   "source": [
    "%%time\n",
    "\n",
    "params = {\n",
    "    \"columns\": ['MSSubClass', 'MSZoning', 'LotFrontage', 'LotArea', 'Street', 'Alley', 'LotShape', 'LandContour', 'Utilities', 'LotConfig', 'LandSlope', 'Neighborhood', 'Condition1', 'Condition2', 'BldgType', 'HouseStyle', 'OverallQual', 'OverallCond', 'YearBuilt', 'YearRemodAdd', 'RoofStyle', 'RoofMatl', 'Exterior1st', 'Exterior2nd', 'MasVnrType', 'MasVnrArea', 'ExterQual', 'ExterCond', 'Foundation', 'BsmtQual', 'BsmtCond', 'BsmtExposure', 'BsmtFinType1', 'BsmtFinSF1', 'BsmtFinType2', 'BsmtFinSF2', 'BsmtUnfSF', 'TotalBsmtSF', 'Heating', 'HeatingQC', 'CentralAir', 'Electrical', '1stFlrSF', '2ndFlrSF', 'LowQualFinSF', 'GrLivArea', 'BsmtFullBath', 'BsmtHalfBath', 'FullBath', 'HalfBath', 'BedroomAbvGr', 'KitchenAbvGr', 'KitchenQual', 'TotRmsAbvGrd', 'Functional', 'Fireplaces', 'FireplaceQu', 'GarageType', 'GarageYrBlt', 'GarageFinish', 'GarageCars', 'GarageArea', 'GarageQual', 'GarageCond', 'PavedDrive', 'WoodDeckSF', 'OpenPorchSF', 'EnclosedPorch', '3SsnPorch', 'ScreenPorch', 'PoolArea', 'PoolQC', 'Fence', 'MiscFeature', 'MiscVal', 'MoSold', 'YrSold', 'SaleType', 'SaleCondition'],\n",
    "    \"values\": [[20,\"RH\",80.0,11622,\"Pave\",None,\"Reg\",\"Lvl\",\"AllPub\",\"Inside\",\"Gtl\",\"NAmes\",\"Feedr\",\"Norm\",\"1Fam\",\"1Story\",5,6,1961,1961,\"Gable\",\"CompShg\",\"VinylSd\",\"VinylSd\",\"None\",0.0,\"TA\",\"TA\",\"CBlock\",\"TA\",\"TA\",\"No\",\"Rec\",468.0,\"LwQ\",144.0,270.0,882.0,\"GasA\",\"TA\",\"Y\",\"SBrkr\",896,0,0,896,0.0,0.0,1,0,2,1,\"TA\",5,\"Typ\",0,None,\"Attchd\",1961.0,\"Unf\",1.0,730.0,\"TA\",\"TA\",\"Y\",140,0,0,0,120,0,None,\"MnPrv\",None,0,6,2010,\"WD\",\"Normal\"]]\n",
    "}\n",
    "\n",
    "result = action.invoke(message=Message.with_payload(params))\n",
    "print(result.payload)\n",
    "print()"
   ]
  },
  {
   "cell_type": "markdown",
   "metadata": {},
   "source": [
    "## Building a Cortex Skill\n",
    "Now that our Action is ready and tested, we can move on to building a Cortex Skill.  We start by creating a Schema that defines our input for Ames Housing price prediction.  The schema will be built automatically using the parameters we already defined in our training dataset."
   ]
  },
  {
   "cell_type": "code",
   "execution_count": 67,
   "metadata": {},
   "outputs": [],
   "source": [
    "x_schema = builder.schema('kaggle/ames-housing-instance').title('Ames Housing Test Instance').from_parameters(train_ds.parameters[1:][:-1]).build()"
   ]
  },
  {
   "cell_type": "markdown",
   "metadata": {},
   "source": [
    "The _builder_ has multiple entry points, we use the _skill_ method here to declare a new \"Ames Housing Price Prediction\" Skill.  Each _builder_ method returns an instance of the builder so we can chain calls together."
   ]
  },
  {
   "cell_type": "code",
   "execution_count": 70,
   "metadata": {},
   "outputs": [],
   "source": [
    "b = builder.skill('kaggle/ames-housing-price-predict').title('Ames Housing Price Prediction').description('Predicts the price of a houses in Ames, Iowa.')"
   ]
  },
  {
   "cell_type": "markdown",
   "metadata": {},
   "source": [
    "Next, we use the Input sub-builder to construct our Skill Input.  This is where we declare how our Input will route messages.  In this simple case, we use the _all_ routing which routes all input messages to same Action for processing and declares wich Output to route Action outputs to.  We pass in our Action that we built previously to wire the Skill to the Action (we could have also passed in the Action name here).  Calling _build_ on the Input will create the input object, add it to the Skill builder, and return the Skill builder."
   ]
  },
  {
   "cell_type": "code",
   "execution_count": 73,
   "metadata": {},
   "outputs": [],
   "source": [
    "b = b.input('ames-house').title('Ames House').use_schema(x_schema.name).all_routing(action, 'price-prediction').build()"
   ]
  },
  {
   "cell_type": "markdown",
   "metadata": {},
   "source": [
    "In the previous step, we referenced an Output called **price-prediction**.  We can create that Output here using the Output sub-builder."
   ]
  },
  {
   "cell_type": "code",
   "execution_count": 76,
   "metadata": {},
   "outputs": [],
   "source": [
    "b = b.output('price-prediction').title('Price Prediction').parameter(name='SalePrice', type='number', format='double').build()"
   ]
  },
  {
   "cell_type": "markdown",
   "metadata": {},
   "source": [
    "We can preview the CAMEL document our builder will create to make sure everything looks correct."
   ]
  },
  {
   "cell_type": "code",
   "execution_count": 79,
   "metadata": {},
   "outputs": [
    {
     "data": {
      "text/plain": [
       "{'camel': '1.0.0',\n",
       " 'name': 'kaggle/ames-housing-price-predict',\n",
       " 'title': 'Ames Housing Price Prediction',\n",
       " 'inputs': [{'name': 'ames-house',\n",
       "   'title': 'Ames House',\n",
       "   'parameters': {'$ref': 'kaggle/ames-housing-instance'},\n",
       "   'routing': {'all': {'action': 'kaggle/ames-housing-predict',\n",
       "     'output': 'price-prediction'}}}],\n",
       " 'outputs': [{'name': 'price-prediction',\n",
       "   'title': 'Price Prediction',\n",
       "   'parameters': [{'name': 'SalePrice',\n",
       "     'type': 'number',\n",
       "     'required': True,\n",
       "     'format': 'double'}]}],\n",
       " 'description': 'Predicts the price of a houses in Ames, Iowa.'}"
      ]
     },
     "execution_count": 79,
     "metadata": {},
     "output_type": "execute_result"
    }
   ],
   "source": [
    "b.to_camel()"
   ]
  },
  {
   "cell_type": "markdown",
   "metadata": {},
   "source": [
    "---\n",
    "### Build and Publish the Skill to the Marketplace\n",
    "This will build the Skill and publish it to my private marketplace.  It will then be available for use in the Agent Builder."
   ]
  },
  {
   "cell_type": "code",
   "execution_count": 82,
   "metadata": {},
   "outputs": [
    {
     "name": "stdout",
     "output_type": "stream",
     "text": [
      "Ames Housing Price Prediction (kaggle/ames-housing-price-predict) v1\n"
     ]
    }
   ],
   "source": [
    "skill = b.build()\n",
    "print('%s (%s) v%d' % (skill.title, skill.name, skill.version))"
   ]
  },
  {
   "cell_type": "code",
   "execution_count": null,
   "metadata": {},
   "outputs": [],
   "source": []
  }
 ],
 "metadata": {
  "kernelspec": {
   "display_name": "Python 3",
   "language": "python",
   "name": "python3"
  },
  "language_info": {
   "codemirror_mode": {
    "name": "ipython",
    "version": 3
   },
   "file_extension": ".py",
   "mimetype": "text/x-python",
   "name": "python",
   "nbconvert_exporter": "python",
   "pygments_lexer": "ipython3",
   "version": "3.6.6"
  }
 },
 "nbformat": 4,
 "nbformat_minor": 2
}
